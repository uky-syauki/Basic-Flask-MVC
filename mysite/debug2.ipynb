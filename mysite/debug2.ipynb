{
 "cells": [
  {
   "cell_type": "code",
   "execution_count": 138,
   "metadata": {},
   "outputs": [],
   "source": [
    "from app import db\n",
    "from app.models import Admin, Barang, Transaksi\n",
    "from flask import jsonify"
   ]
  },
  {
   "cell_type": "code",
   "execution_count": 156,
   "metadata": {},
   "outputs": [
    {
     "name": "stdout",
     "output_type": "stream",
     "text": [
      "<Response 481 bytes [200 OK]>\n"
     ]
    }
   ],
   "source": [
    "def toJson(obj):\n",
    "    data = {}\n",
    "    for isi in obj:\n",
    "        data[isi.nama] = {'password':isi.password,'email':isi.email}\n",
    "    return jsonify(data)\n",
    "daftar = Admin.query.all()\n",
    "print(toJson(daftar))\n",
    "\n",
    "# print(toJson(dir(daftar)))\n",
    "\n"
   ]
  },
  {
   "cell_type": "code",
   "execution_count": 136,
   "metadata": {},
   "outputs": [
    {
     "name": "stdout",
     "output_type": "stream",
     "text": [
      "app\n"
     ]
    }
   ],
   "source": [
    "print(\"app\")"
   ]
  },
  {
   "cell_type": "code",
   "execution_count": 123,
   "metadata": {},
   "outputs": [],
   "source": [
    "class DataBarang:\n",
    "    def add(kode, nama, jual, modal, stok):\n",
    "        try:\n",
    "            barang = Barang(kode_barang=kode, nama_barang=nama, harga_jual=jual, harga_modal=modal, stok=stok)\n",
    "            db.session.add(barang)\n",
    "            db.session.commit()\n",
    "            return True\n",
    "        except:\n",
    "            db.session.rollback()\n",
    "            return False\n",
    "    def update(kode_barang=None, nama_barang=None, harga_jual=None, harga_modal=None, stok=None):\n",
    "        try:\n",
    "            curren_barang = db.session.query(Barang).filter_by(kode_barang=kode_barang).first()\n",
    "            curren_barang.kode_barang = kode_barang if kode_barang != None else curren_barang.kode_barang\n",
    "            curren_barang.nama_barang = nama_barang if nama_barang != None else curren_barang.nama_barang\n",
    "            curren_barang.harga_jual = harga_jual if harga_jual != None else curren_barang.harga_jual\n",
    "            curren_barang.harga_modal = harga_modal if harga_modal != None else curren_barang.harga_modal\n",
    "            curren_barang.stok = stok if stok != None else curren_barang.stok\n",
    "            db.session.commit()\n",
    "            return True\n",
    "        except:\n",
    "            db.session.rollback()\n",
    "            return False\n",
    "    def delete(kode):\n",
    "        try:\n",
    "            current_barang = db.session.query(Barang).filter_by(kode_barang=kode).first()\n",
    "            db.session.delete(current_barang)\n",
    "            db.session.commit()\n",
    "            return True\n",
    "        except:\n",
    "            db.session.rollback()\n",
    "            return False\n",
    "    def cek(kode):\n",
    "        hasil = db.session.query(Barang).filter_by(kode_barang=kode).first()\n",
    "        return True if hasil else False\n",
    "\n",
    "\n",
    "\n",
    "\n"
   ]
  },
  {
   "cell_type": "code",
   "execution_count": 135,
   "metadata": {},
   "outputs": [
    {
     "name": "stdout",
     "output_type": "stream",
     "text": [
      "3.141592\n"
     ]
    }
   ],
   "source": [
    "import math\n",
    "hasil = str(math.pi)[:8]\n",
    "print(hasil)"
   ]
  },
  {
   "cell_type": "code",
   "execution_count": 114,
   "metadata": {},
   "outputs": [
    {
     "name": "stdout",
     "output_type": "stream",
     "text": [
      "[<Barang 1>, <Barang 2>, <Barang 3>, <Barang 4>, <Barang 5>, <Barang 6>, <Barang 7>, <Barang 8>, <Barang 9>, <Barang 10>, <Barang 11>, <Barang 12>, <Barang 13>, <Barang 14>, <Barang 15>, <Barang 16>, <Barang 17>, <Barang 18>, <Barang 19>, <Barang 20>, <Barang 21>, <Barang 22>, <Barang 23>, <Barang 24>, <Barang 25>, <Barang 26>, <Barang 27>]\n"
     ]
    }
   ],
   "source": [
    "query = Barang.query.all()\n",
    "print(query)"
   ]
  },
  {
   "cell_type": "code",
   "execution_count": 120,
   "metadata": {},
   "outputs": [
    {
     "name": "stdout",
     "output_type": "stream",
     "text": [
      "None\n"
     ]
    }
   ],
   "source": [
    "query = db.session.query(Barang).filter_by(kode_barang=\"TR100G\").first()\n",
    "\n",
    "print(query)"
   ]
  },
  {
   "cell_type": "code",
   "execution_count": 119,
   "metadata": {},
   "outputs": [],
   "source": [
    "# DBBR = DataBarang.add(\"TR100G\",\"Tree 100 Gb\", 150000, 160000, 2)\n",
    "# DBBR = DataBarang.update(kode_barang=\"TR100G\", nama_barang=\"TREE KARTU 100 GB\")\n",
    "DBBR = DataBarang.delete(\"TR100G\")"
   ]
  },
  {
   "cell_type": "code",
   "execution_count": 7,
   "metadata": {},
   "outputs": [
    {
     "name": "stdout",
     "output_type": "stream",
     "text": [
      "[<Barang 1>, <Barang 2>, <Barang 3>, <Barang 4>, <Barang 5>, <Barang 6>, <Barang 7>, <Barang 8>, <Barang 9>, <Barang 10>, <Barang 11>, <Barang 12>, <Barang 13>, <Barang 14>, <Barang 15>, <Barang 16>, <Barang 17>, <Barang 18>, <Barang 19>, <Barang 20>, <Barang 21>, <Barang 22>, <Barang 23>, <Barang 24>, <Barang 25>, <Barang 26>, <Barang 27>]\n"
     ]
    }
   ],
   "source": [
    "class kelola:\n",
    "    def __init__(self):\n",
    "        self.barang = Barang.query.all()\n",
    "        print(self.barang)\n",
    "    def getDaftar(self):\n",
    "        hasil = {}\n",
    "        for isi in self.barang:\n",
    "            hasil[isi.kode_barang] = [isi.kode_barang, isi.nama_barang, isi.harga_jual, isi.harga_modal, isi.stok]\n",
    "        return hasil\n",
    "\n",
    "barang = kelola()\n"
   ]
  },
  {
   "cell_type": "code",
   "execution_count": 122,
   "metadata": {},
   "outputs": [],
   "source": [
    "if None:\n",
    "    print(True)"
   ]
  },
  {
   "cell_type": "code",
   "execution_count": 13,
   "metadata": {},
   "outputs": [
    {
     "name": "stdout",
     "output_type": "stream",
     "text": [
      "[<Barang 1>, <Barang 2>, <Barang 3>, <Barang 4>, <Barang 5>, <Barang 6>, <Barang 7>, <Barang 8>, <Barang 9>, <Barang 10>, <Barang 11>, <Barang 12>, <Barang 13>, <Barang 14>, <Barang 15>, <Barang 16>, <Barang 17>, <Barang 18>, <Barang 19>, <Barang 20>, <Barang 21>, <Barang 22>, <Barang 23>, <Barang 24>, <Barang 25>, <Barang 26>, <Barang 27>]\n"
     ]
    }
   ],
   "source": [
    "print(barang.getDaftar())"
   ]
  },
  {
   "cell_type": "code",
   "execution_count": 21,
   "metadata": {},
   "outputs": [
    {
     "name": "stdout",
     "output_type": "stream",
     "text": [
      "TSK99G ['TSK99G', 'Telkomsel Kartu 99 GB', 160000, 150000, 10]\n",
      "TSK6G ['TSK6G', 'Telkomsel Kartu 6 Gb', 30000, 28000, 10]\n",
      "TSK9G ['TSK9G', 'Telkomsel Kartu 9 Gb', 50000, 45000, 2]\n",
      "TSK12G ['TSK12G', 'Telkomsel Kartu 12 Gb', 85000, 80000, 1]\n",
      "TRK1G ['TRK1G', 'Tree Kartu 1 Gb', 10000, 8000, 4]\n",
      "TRK2G ['TRK2G', 'Tree Kartu 2 Gb', 20000, 18000, 12]\n",
      "TRK3G ['TRK3G', 'Tree Kartu 3 Gb', 28000, 25000, 10]\n",
      "XLK4G ['XLK4G', 'XL Kartu 4 Gb', 20000, 18000, 9]\n",
      "XLK8G ['XLK8G', 'XL Kartu 8 Gb', 28000, 18000, 9]\n",
      "XLK11G ['XLK11G', 'XL Kartu 11 Gb', 42000, 40000, 7]\n",
      "TRK22G ['TRK22G', 'Tree Kartu 22 Gb', 70000, 65000, 6]\n",
      "TSK25G ['TSK25G', 'Telkomsel Kartu 25 Gb', 80000, 75000, 3]\n",
      "TSKS ['TSKS', 'Telkomsel Kartu Sakti', 25000, 20000, 5]\n",
      "TSV1G ['TSV1G', 'Telkomsel Voucher 1.5 Gb', 12000, 9000, 10]\n",
      "TSV2G ['TSV2G', 'Telkomsel Vaucher 2.5 Gb', 14000, 12000, 10]\n",
      "TSV3G ['TSV3G', 'Telkomsel Voucher 3.5 Gb', 20000, 16000, 10]\n",
      "TRK4G ['TRK4G', 'Tree Kartu 6 Gb', 36000, 34000, 9]\n",
      "TRK9G ['TRK9G', 'Tree Kartu 9 Gb', 45000, 42000, 10]\n",
      "TRK12G ['TRK12G', 'Tree Kartu 12 Gb', 52000, 48000, 10]\n",
      "TRV1G ['TRV1G', 'Tree Voucher 1 Gb', 10000, 8000, 10]\n",
      "TRV1SG ['TRV1SG', 'Tree Voucher 1.5 Gb', 15000, 13000, 9]\n",
      "TRV2G ['TRV2G', 'Tree Voucher 2 Gb', 20000, 18000, 10]\n",
      "TRV3G ['TRV3G', 'Tree Voucher 3 Gb', 27000, 25000, 10]\n",
      "TRV6G ['TRV6G', 'Tree Voucher 6 Gb', 36000, 34000, 10]\n",
      "TRV9G ['TRV9G', 'Tree Voucher 9 Gb', 42000, 40000, 10]\n",
      "TRV12G ['TRV12G', 'Tree Voucher 12 Gb', 52000, 48000, 10]\n",
      "INDST4G ['INDST4G', 'Indosat 100gb', 125000, 120000, 2]\n"
     ]
    }
   ],
   "source": [
    "def getDaftar(brg):\n",
    "    hasil = {}\n",
    "    for isi in brg:\n",
    "        hasil[isi.kode_barang] = [isi.kode_barang, isi.nama_barang, isi.harga_jual, isi.harga_modal, isi.stok]\n",
    "    # for i in range(len(hasil)):\n",
    "    #     for j in range(len(hasil)):\n",
    "    #         if hasil[i][4] < hasil[j][4]:\n",
    "    #             hasil[i], hasil[j] = hasil[j], hasil[i]\n",
    "\n",
    "    return hasil\n",
    "\n",
    "\n",
    "\n",
    "\n",
    "for isi in getDaftar(barang.getDaftar()):\n",
    "    print(isi, getDaftar(barang.getDaftar())[isi])"
   ]
  },
  {
   "cell_type": "code",
   "execution_count": 10,
   "metadata": {},
   "outputs": [
    {
     "name": "stdout",
     "output_type": "stream",
     "text": [
      "['__add__', '__class__', '__class_getitem__', '__contains__', '__delattr__', '__delitem__', '__dir__', '__doc__', '__eq__', '__format__', '__ge__', '__getattribute__', '__getitem__', '__gt__', '__hash__', '__iadd__', '__imul__', '__init__', '__init_subclass__', '__iter__', '__le__', '__len__', '__lt__', '__mul__', '__ne__', '__new__', '__reduce__', '__reduce_ex__', '__repr__', '__reversed__', '__rmul__', '__setattr__', '__setitem__', '__sizeof__', '__str__', '__subclasshook__', 'append', 'clear', 'copy', 'count', 'extend', 'index', 'insert', 'pop', 'remove', 'reverse', 'sort']\n"
     ]
    }
   ],
   "source": [
    "print(dir(barang.getDaftar()))"
   ]
  },
  {
   "cell_type": "code",
   "execution_count": 4,
   "metadata": {},
   "outputs": [
    {
     "name": "stdout",
     "output_type": "stream",
     "text": [
      "TSK99G\n",
      "TSK6G\n",
      "TSK9G\n",
      "TSK12G\n",
      "TRK1G\n",
      "TRK2G\n",
      "TRK3G\n",
      "XLK4G\n",
      "XLK8G\n",
      "XLK11G\n",
      "TRK22G\n",
      "TSK25G\n",
      "TSKS\n",
      "TSV1G\n",
      "TSV2G\n",
      "TSV3G\n",
      "TRK4G\n",
      "TRK9G\n",
      "TRK12G\n",
      "TRV1G\n",
      "TRV1SG\n",
      "TRV2G\n",
      "TRV3G\n",
      "TRV6G\n",
      "TRV9G\n",
      "TRV12G\n",
      "INDST4G\n"
     ]
    }
   ],
   "source": [
    "for isi in barang.barang:\n",
    "    print(isi.kode_barang)"
   ]
  },
  {
   "cell_type": "code",
   "execution_count": null,
   "metadata": {},
   "outputs": [],
   "source": []
  }
 ],
 "metadata": {
  "kernelspec": {
   "display_name": "Python 3",
   "language": "python",
   "name": "python3"
  },
  "language_info": {
   "codemirror_mode": {
    "name": "ipython",
    "version": 3
   },
   "file_extension": ".py",
   "mimetype": "text/x-python",
   "name": "python",
   "nbconvert_exporter": "python",
   "pygments_lexer": "ipython3",
   "version": "3.10.9"
  },
  "orig_nbformat": 4
 },
 "nbformat": 4,
 "nbformat_minor": 2
}
